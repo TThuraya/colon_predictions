{
 "cells": [
  {
   "cell_type": "markdown",
   "metadata": {},
   "source": [
    "# SVM"
   ]
  },
  {
   "cell_type": "markdown",
   "metadata": {},
   "source": [
    "Support Vector Machines (SVM) is a powerful classification algorithm. \n",
    "To build an SVM model to classify 'healthy' and 'diagnosed' using the given dataset:\n",
    "\n",
    "split the data into features (X) and target (y).\n",
    "\n",
    "separate the dataset into training and testing sets.\n",
    "\n",
    "train an SVM model on the training set.\n",
    "\n",
    "evaluate the model's performance on the testing set."
   ]
  },
  {
   "cell_type": "markdown",
   "metadata": {},
   "source": [
    "In the medical field, both precision and recall are crucial, but the emphasis can vary based on the specific medical application or condition being diagnosed.\n",
    "\n",
    "1. **Precision (Positive Predictive Value)**: It indicates the proportion of positive identifications (diagnoses) that were actually correct. A model with high precision will have fewer false positives. In a medical context, high precision ensures that the patients diagnosed with a condition actually have it. \n",
    "\n",
    "2. **Recall (Sensitivity or True Positive Rate)**: It indicates the proportion of actual positives that were correctly identified. A model with high recall will have fewer false negatives. In a medical context, high recall ensures that most patients with a condition are correctly diagnosed, and very few are missed.\n",
    "\n",
    "In many medical scenarios, especially life-threatening ones, having a high recall is more critical. It's often considered more acceptable to have some false positives (which can be further verified with additional tests) than to miss a patient who actually has a condition (false negative).\n",
    "\n",
    "For instance, consider cancer screening:\n",
    "- **High Recall**: Important to ensure that very few cases of cancer are missed. A missed diagnosis can be fatal.\n",
    "- **Precision**: While it's also important, in situations where the stakes are high, it might be more acceptable to have some false positives because they can undergo further tests to confirm or refute the diagnosis.\n",
    "\n",
    "However, the ideal scenario is to have a model with both high precision and high recall. In situations where a trade-off has to be made, it's based on the potential consequences of false positives versus false negatives.\n",
    "\n"
   ]
  },
  {
   "cell_type": "code",
   "execution_count": 12,
   "metadata": {},
   "outputs": [],
   "source": [
    "from sklearn.model_selection import train_test_split\n",
    "from sklearn.svm import SVC\n",
    "from sklearn.metrics import classification_report, accuracy_score\n",
    "import pandas as pd\n",
    "import matplotlib.pyplot as plt\n",
    "import seaborn as sns\n",
    "from sklearn.metrics import confusion_matrix, roc_curve, auc\n",
    "from sklearn.preprocessing import label_binarize\n",
    "import matplotlib.pyplot as plt\n",
    "from sklearn.metrics import roc_curve, auc\n",
    "from sklearn.preprocessing import label_binarize\n",
    "import numpy as np\n",
    "\n"
   ]
  },
  {
   "cell_type": "code",
   "execution_count": 13,
   "metadata": {},
   "outputs": [],
   "source": [
    "# Load the dataset\n",
    "data = pd.read_csv('Data/colon-dataset-processed.csv')"
   ]
  },
  {
   "cell_type": "code",
   "execution_count": 14,
   "metadata": {},
   "outputs": [],
   "source": [
    "# Splitting data into features and target\n",
    "X = data.drop('Class', axis=1)\n",
    "y = data['Class']"
   ]
  },
  {
   "cell_type": "code",
   "execution_count": 15,
   "metadata": {},
   "outputs": [],
   "source": [
    "# Splitting data into training and testing sets (80% train, 20% test)\n",
    "X_train, X_test, y_train, y_test = train_test_split(X, y, test_size=0.2, random_state=42)"
   ]
  },
  {
   "cell_type": "code",
   "execution_count": 16,
   "metadata": {},
   "outputs": [],
   "source": [
    "# Initializing SVM model\n",
    "svm_model = SVC(kernel='linear', C=1)"
   ]
  },
  {
   "cell_type": "code",
   "execution_count": 17,
   "metadata": {},
   "outputs": [
    {
     "data": {
      "text/plain": [
       "SVC(C=1, kernel='linear')"
      ]
     },
     "execution_count": 17,
     "metadata": {},
     "output_type": "execute_result"
    }
   ],
   "source": [
    "# Training the model\n",
    "svm_model.fit(X_train, y_train)"
   ]
  },
  {
   "cell_type": "code",
   "execution_count": 18,
   "metadata": {},
   "outputs": [],
   "source": [
    "# Predicting on the testing set\n",
    "y_pred = svm_model.predict(X_test)"
   ]
  },
  {
   "cell_type": "code",
   "execution_count": 19,
   "metadata": {},
   "outputs": [
    {
     "data": {
      "text/plain": [
       "(0.8695652173913043,\n",
       " '              precision    recall  f1-score   support\\n\\n   diagnosed       0.85      0.92      0.88        12\\n     healthy       0.90      0.82      0.86        11\\n\\n    accuracy                           0.87        23\\n   macro avg       0.87      0.87      0.87        23\\nweighted avg       0.87      0.87      0.87        23\\n')"
      ]
     },
     "execution_count": 19,
     "metadata": {},
     "output_type": "execute_result"
    }
   ],
   "source": [
    "# Evaluating the model\n",
    "accuracy = accuracy_score(y_test, y_pred)\n",
    "classification_rep = classification_report(y_test, y_pred)\n",
    "\n",
    "accuracy, classification_rep"
   ]
  },
  {
   "cell_type": "code",
   "execution_count": 20,
   "metadata": {},
   "outputs": [],
   "source": [
    "# Function to plot confusion matrix\n",
    "def plot_confusion_matrix(y_true, y_pred, classes, cmap=plt.cm.Blues):\n",
    "    matrix = confusion_matrix(y_true, y_pred)\n",
    "    df_cm = pd.DataFrame(matrix, columns=classes, index=classes)\n",
    "    plt.figure(figsize=(5,4))\n",
    "    sns.heatmap(df_cm, annot=True, cmap=cmap, fmt='g')\n",
    "    plt.ylabel('True label')\n",
    "    plt.xlabel('Predicted label')\n",
    "    plt.title('Confusion Matrix')\n",
    "    plt.show()"
   ]
  },
  {
   "cell_type": "code",
   "execution_count": 21,
   "metadata": {},
   "outputs": [
    {
     "name": "stdout",
     "output_type": "stream",
     "text": [
      "==================================================\n",
      "Classification Report:\n",
      "--------------------------------------------------\n",
      "              precision    recall  f1-score   support\n",
      "\n",
      "   diagnosed       0.85      0.92      0.88        12\n",
      "     healthy       0.90      0.82      0.86        11\n",
      "\n",
      "    accuracy                           0.87        23\n",
      "   macro avg       0.87      0.87      0.87        23\n",
      "weighted avg       0.87      0.87      0.87        23\n",
      "\n"
     ]
    }
   ],
   "source": [
    "# Print formatted results\n",
    "print(\"=\"*50)\n",
    "print(\"Classification Report:\")\n",
    "print(\"-\"*50)\n",
    "print(classification_report(y_test, y_pred))"
   ]
  },
  {
   "cell_type": "code",
   "execution_count": 22,
   "metadata": {},
   "outputs": [
    {
     "data": {
      "image/png": "[encoded data removed]",
      "text/plain": [
       "<Figure size 864x720 with 2 Axes>"
      ]
     },
     "metadata": {
      "needs_background": "light"
     },
     "output_type": "display_data"
    }
   ],
   "source": [
    "# Enhanced confusion matrix plotting\n",
    "fig, ax = plt.subplots(figsize=(12, 10))\n",
    "cm = confusion_matrix(y_test, y_pred)\n",
    "\n",
    "# Display the heatmap\n",
    "im = ax.imshow(cm, interpolation='nearest', cmap=plt.cm.Blues)\n",
    "ax.figure.colorbar(im, ax=ax)\n",
    "\n",
    "# Set the x and y ticks, labels, and title with increased font size\n",
    "ax.set(xticks=np.arange(cm.shape[1]), \n",
    "       yticks=np.arange(cm.shape[0]),\n",
    "       xticklabels=['healthy', 'diagnosed'], \n",
    "       yticklabels=['healthy', 'diagnosed'],\n",
    "       title=\"Confusion Matrix\",\n",
    "       xlabel=\"Predicted Label\",\n",
    "       ylabel=\"True Label\")\n",
    "ax.title.set_fontsize(20)\n",
    "ax.xaxis.label.set_fontsize(18)\n",
    "ax.yaxis.label.set_fontsize(18)\n",
    "ax.set_xticklabels(ax.get_xticklabels(), fontsize=16)\n",
    "ax.set_yticklabels(ax.get_yticklabels(), fontsize=16)\n",
    "\n",
    "# Loop over data dimensions and create text annotations with increased font size\n",
    "for i in range(cm.shape[0]):\n",
    "    for j in range(cm.shape[1]):\n",
    "        ax.text(j, i, cm[i, j], ha=\"center\", va=\"center\", \n",
    "                color=\"white\" if cm[i, j] > cm.max() / 2. else \"black\", fontsize=16)\n",
    "\n",
    "plt.tight_layout()\n",
    "plt.show()\n"
   ]
  },
  {
   "cell_type": "markdown",
   "metadata": {},
   "source": [
    "\n",
    "Here are the performance metrics derived from the results of the SVM model on our dataset:\n",
    "\n",
    "1. **Accuracy**: Approximately \\(86.96\\%\\)\n",
    "   - This implies that the SVM model correctly predicted the class (either 'healthy' or 'diagnosed') for about \\(86.96\\%\\) of the samples in the test set.\n",
    "\n",
    "   \n",
    "2. **Precision (for 'diagnosed')**: Approximately \\(84.62\\%\\)\n",
    "   - This means that when the SVM model predicted a sample to be 'diagnosed', it was correct about \\(84.62\\%\\) of the time. The remaining \\(15.38\\%\\) were actually 'healthy' but misclassified.\n",
    "\n",
    "   \n",
    "3. **Recall (for 'diagnosed')**: Approximately \\(91.67\\%\\)\n",
    "   - This metric tells us that out of all the actual 'diagnosed' samples in the test set, the SVM model correctly identified \\(91.67\\%\\) of them. The remaining \\(8.33\\%\\) were misclassified as 'healthy'.\n",
    "\n",
    "   \n",
    "4. **F1-Score (for 'diagnosed')**: Approximately \\(88.00\\%\\)\n",
    "   - The F1-Score provides a balance between precision and recall. An F1-Score of \\(88.00\\%\\) indicates a good harmonic balance between the two metrics for the 'diagnosed' class.\n",
    "\n",
    "   \n",
    "\n",
    "In summary, the SVM model performed reasonably well on the test set, with both precision and recall values being relatively high for the 'diagnosed' class. \n",
    "\n",
    "This suggests that the model is robust in identifying individuals with a 'diagnosed' label, as well as minimizing false alarms where 'healthy' individuals are misclassified."
   ]
  },
  {
   "cell_type": "markdown",
   "metadata": {},
   "source": [
    "----------------------------------------------------------------------------------------------------------------------------------------------------------------------------------------------------------------------"
   ]
  },
  {
   "cell_type": "code",
   "execution_count": null,
   "metadata": {},
   "outputs": [],
   "source": [
    "\n"
   ]
  },
  {
   "cell_type": "code",
   "execution_count": null,
   "metadata": {},
   "outputs": [],
   "source": [
    "\n"
   ]
  }
 ],
 "metadata": {
  "kernelspec": {
   "display_name": "Python 3",
   "language": "python",
   "name": "python3"
  },
  "language_info": {
   "codemirror_mode": {
    "name": "ipython",
    "version": 3
   },
   "file_extension": ".py",
   "mimetype": "text/x-python",
   "name": "python",
   "nbconvert_exporter": "python",
   "pygments_lexer": "ipython3",
   "version": "3.9.12"
  }
 },
 "nbformat": 4,
 "nbformat_minor": 2
}
